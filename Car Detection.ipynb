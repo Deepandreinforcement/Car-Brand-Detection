{
 "cells": [
  {
   "cell_type": "code",
   "execution_count": null,
   "id": "2dc840d2",
   "metadata": {},
   "outputs": [],
   "source": [
    "# Eğer ultralytics kütüphanesi yüklü değilse alttaki satırı yorumdan çıkararak yükleyebilirsiniz.\n",
    "#!pip install ultralytics"
   ]
  },
  {
   "cell_type": "code",
   "execution_count": null,
   "id": "a3ff7722",
   "metadata": {},
   "outputs": [],
   "source": [
    "# Eğer kütüphane yüklü olduğu halde modeli yüklerken hata alıyorsanız aşağıdaki sürümü kurun.\n",
    "# Bunun için aşağıdaki satırı yorumdan çıkarın\n",
    "\n",
    "#!pip install ultralytics==8.0.145"
   ]
  },
  {
   "cell_type": "code",
   "execution_count": 2,
   "id": "e088e9fa",
   "metadata": {},
   "outputs": [],
   "source": [
    "# Burada modeli yüklüyoruz. \n",
    "from ultralytics import YOLO\n",
    "model= YOLO(\"car.pt\") "
   ]
  },
  {
   "cell_type": "code",
   "execution_count": 40,
   "id": "dd4c6812",
   "metadata": {},
   "outputs": [
    {
     "name": "stderr",
     "output_type": "stream",
     "text": [
      "Results saved to \u001b[1mruns\\detect\\predict2\u001b[0m\n"
     ]
    }
   ],
   "source": [
    "# Burada hangi resim ya da videoyu bulmasını istiyorsak onun adını giriyoruz.\n",
    "# Eğer kod dosyası ile resim aynı dizinde değilse o zaman resmin dosya yolu girilmeli\n",
    "# Sonuçlar altta belirtilen yere kaydediliyor\n",
    "\n",
    "results = model.predict(\"image1.jpg\",save=True)"
   ]
  },
  {
   "cell_type": "markdown",
   "id": "a45e3cf4",
   "metadata": {},
   "source": [
    "# OpenCV İşlemleri - Resim için"
   ]
  },
  {
   "cell_type": "code",
   "execution_count": 46,
   "id": "fdfd9034",
   "metadata": {},
   "outputs": [],
   "source": [
    "import cv2\n",
    "import numpy as np\n",
    "\n",
    "font = cv2.FONT_HERSHEY_SIMPLEX\n",
    "img=cv2.imread('image1.jpg')\n",
    "results = model(img,verbose=False) \n",
    "labels=results[0].names\n",
    "\n",
    "\n",
    "for i in range(len(results[0].boxes)):\n",
    "    x1,y1,x2,y2=results[0].boxes.xyxy[i]\n",
    "    score=results[0].boxes.conf[i]\n",
    "    label=results[0].boxes.cls[i]\n",
    "    x1,y1,x2,y2,score,label=int(x1),int(y1),int(x2),int(y2),float(score),int(label)\n",
    "    name=labels[label]\n",
    "    # Burada threshold belirliyoruz. Eğer oranı yüzde 40'tan küçükse ekranda gçsterilmiyor\n",
    "    if score<0.3:\n",
    "        continue\n",
    "\n",
    "\n",
    "    cv2.rectangle(img,(x1,y1),(x2,y2),(255,0,0),3)\n",
    "    text=name+' '+str(format(score, '.2f'))\n",
    "    cv2.putText(img, text,(x1, y1-10), font, 1.5, (0,0,255), 2)\n",
    "    \n",
    "\n",
    "cv2.imshow(\"kamera\",img)\n",
    "# Sonuçları kaydetmek için aşağıdaki satırı çalıştırıyoruz.\n",
    "cv2.imwrite('yeni.jpg',img)\n",
    "\n",
    "cv2.waitKey()\n",
    "cv2.destroyAllWindows()"
   ]
  },
  {
   "cell_type": "markdown",
   "id": "dbe8dedf",
   "metadata": {},
   "source": [
    "# OpenCV İşlemleri - Video için"
   ]
  },
  {
   "cell_type": "code",
   "execution_count": 37,
   "id": "4e3b7468",
   "metadata": {},
   "outputs": [],
   "source": [
    "import cv2\n",
    "import numpy as np\n",
    "# 0 dedğimiz için webcam kullanılıyor\n",
    "kamera= cv2.VideoCapture(0)\n",
    "\n",
    "while True:\n",
    "\n",
    "\n",
    "    \n",
    "    ret,kare=kamera.read()\n",
    "    \n",
    "\n",
    "    results = model(kare,verbose=False) \n",
    "    \n",
    "    for i in range(len(results[0].boxes)):\n",
    "        x1,y1,x2,y2=results[0].boxes.xyxy[i]\n",
    "        score=results[0].boxes.conf[i]\n",
    "        label=results[0].boxes.cls[i]\n",
    "        x1,y1,x2,y2,score,label=int(x1),int(y1),int(x2),int(y2),float(score),int(label)\n",
    "        name=labels[label]\n",
    "        if score<0.3:\n",
    "            continue\n",
    "\n",
    "        cv2.rectangle(img,(x1,y1),(x2,y2),(255,0,0),3)\n",
    "        text=name+' '+str(format(score, '.2f'))\n",
    "        cv2.putText(img, text,(x1, y1-10), font, 1.5, (0,0,255), 2)\n",
    "\n",
    "\n",
    "    cv2.imshow(\"kamera\",kare)\n",
    "    if cv2.waitKey(1) & 0xFF == ord('q'):\n",
    "        break\n",
    "kamera.release()\n",
    "cv2.destroyAllWindows()"
   ]
  }
 ],
 "metadata": {
  "kernelspec": {
   "display_name": "Python 3 (ipykernel)",
   "language": "python",
   "name": "python3"
  },
  "language_info": {
   "codemirror_mode": {
    "name": "ipython",
    "version": 3
   },
   "file_extension": ".py",
   "mimetype": "text/x-python",
   "name": "python",
   "nbconvert_exporter": "python",
   "pygments_lexer": "ipython3",
   "version": "3.9.13"
  }
 },
 "nbformat": 4,
 "nbformat_minor": 5
}
